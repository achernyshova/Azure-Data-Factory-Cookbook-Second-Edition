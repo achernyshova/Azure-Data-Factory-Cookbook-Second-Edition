{
  "cells": [
    {
      "cell_type": "markdown",
      "source": [
        "Set the storage account variable and import the needed libraries"
      ],
      "metadata": {
        "nteract": {
          "transient": {
            "deleting": false
          }
        }
      }
    },
    {
      "cell_type": "code",
      "source": [
        "import datetime\n",
        "from pyspark.sql.functions import *\n",
        "\n",
        "storage_account = 'adfcookbookv2fs@adfcookbookv2storage'"
      ],
      "outputs": [
        {
          "output_type": "display_data",
          "data": {
            "application/vnd.livy.statement-meta+json": {
              "spark_pool": "adfcookbookv2",
              "session_id": "5",
              "statement_id": 5,
              "state": "finished",
              "livy_statement_state": "available",
              "queued_time": "2023-05-15T17:48:23.6805109Z",
              "session_start_time": null,
              "execution_start_time": "2023-05-15T17:48:23.8374712Z",
              "execution_finish_time": "2023-05-15T17:48:24.947863Z",
              "spark_jobs": null,
              "parent_msg_id": "b8f63013-1422-43ec-8972-5d2d43f646f6"
            },
            "text/plain": "StatementMeta(adfcookbookv2, 5, 5, Finished, Available)"
          },
          "metadata": {}
        }
      ],
      "execution_count": 5,
      "metadata": {
        "jupyter": {
          "source_hidden": false,
          "outputs_hidden": false
        },
        "nteract": {
          "transient": {
            "deleting": false
          }
        }
      }
    },
    {
      "cell_type": "markdown",
      "source": [
        "Loading ratings"
      ],
      "metadata": {
        "nteract": {
          "transient": {
            "deleting": false
          }
        }
      }
    },
    {
      "cell_type": "code",
      "source": [
        "ratings_df = spark.read.load(f'abfss://{storage_account}.dfs.core.windows.net/movielens/ratings.csv'\r\n",
        ", format='csv'\r\n",
        "## If header exists uncomment line below\r\n",
        ", header=True\r\n",
        ")"
      ],
      "outputs": [
        {
          "output_type": "display_data",
          "data": {
            "application/vnd.livy.statement-meta+json": {
              "spark_pool": "adfcookbookv2",
              "session_id": "5",
              "statement_id": 6,
              "state": "finished",
              "livy_statement_state": "available",
              "queued_time": "2023-05-15T17:48:23.717976Z",
              "session_start_time": null,
              "execution_start_time": "2023-05-15T17:48:25.1163962Z",
              "execution_finish_time": "2023-05-15T17:48:26.2414254Z",
              "spark_jobs": null,
              "parent_msg_id": "aaea3a3b-3b3d-4155-b590-6b71cc1e21c2"
            },
            "text/plain": "StatementMeta(adfcookbookv2, 5, 6, Finished, Available)"
          },
          "metadata": {}
        }
      ],
      "execution_count": 6,
      "metadata": {
        "jupyter": {
          "source_hidden": false,
          "outputs_hidden": false
        },
        "nteract": {
          "transient": {
            "deleting": false
          }
        },
        "microsoft": {},
        "collapsed": false
      }
    },
    {
      "cell_type": "markdown",
      "source": [
        "Adding date column"
      ],
      "metadata": {
        "nteract": {
          "transient": {
            "deleting": false
          }
        }
      }
    },
    {
      "cell_type": "code",
      "source": [
        "ratings_df = ratings_df.withColumn(\"date\", from_unixtime(col(\"timestamp\"),\"yyyy-MM-dd\")).drop(col(\"timestamp\"))"
      ],
      "outputs": [
        {
          "output_type": "display_data",
          "data": {
            "application/vnd.livy.statement-meta+json": {
              "spark_pool": "adfcookbookv2",
              "session_id": "5",
              "statement_id": 7,
              "state": "finished",
              "livy_statement_state": "available",
              "queued_time": "2023-05-15T17:48:23.778149Z",
              "session_start_time": null,
              "execution_start_time": "2023-05-15T17:48:26.4122207Z",
              "execution_finish_time": "2023-05-15T17:48:26.6210936Z",
              "spark_jobs": null,
              "parent_msg_id": "391824ba-7d89-4a70-ba9e-b6664d133c47"
            },
            "text/plain": "StatementMeta(adfcookbookv2, 5, 7, Finished, Available)"
          },
          "metadata": {}
        }
      ],
      "execution_count": 7,
      "metadata": {
        "jupyter": {
          "source_hidden": false,
          "outputs_hidden": false
        },
        "nteract": {
          "transient": {
            "deleting": false
          }
        },
        "collapsed": false
      }
    },
    {
      "cell_type": "markdown",
      "source": [
        "Aggregating ratings"
      ],
      "metadata": {
        "nteract": {
          "transient": {
            "deleting": false
          }
        }
      }
    },
    {
      "cell_type": "code",
      "source": [
        "group_cols = [\"movieid\"]\n",
        "agg_df = ratings_df.groupBy(group_cols) \\\n",
        "                    .agg(count(\"rating\").alias(\"count_rating\"), \\\n",
        "                        avg(\"rating\").alias(\"avg_rating\") \\\n",
        "                    )"
      ],
      "outputs": [
        {
          "output_type": "display_data",
          "data": {
            "application/vnd.livy.statement-meta+json": {
              "spark_pool": "adfcookbookv2",
              "session_id": "5",
              "statement_id": 8,
              "state": "finished",
              "livy_statement_state": "available",
              "queued_time": "2023-05-15T17:48:23.8241375Z",
              "session_start_time": null,
              "execution_start_time": "2023-05-15T17:48:26.7772515Z",
              "execution_finish_time": "2023-05-15T17:48:26.940238Z",
              "spark_jobs": null,
              "parent_msg_id": "5b1de8ce-5ba9-4180-b269-598b67b30a04"
            },
            "text/plain": "StatementMeta(adfcookbookv2, 5, 8, Finished, Available)"
          },
          "metadata": {}
        }
      ],
      "execution_count": 8,
      "metadata": {
        "jupyter": {
          "source_hidden": false,
          "outputs_hidden": false
        },
        "nteract": {
          "transient": {
            "deleting": false
          }
        },
        "collapsed": false
      }
    },
    {
      "cell_type": "markdown",
      "source": [
        "Loading movies"
      ],
      "metadata": {
        "nteract": {
          "transient": {
            "deleting": false
          }
        }
      }
    },
    {
      "cell_type": "code",
      "source": [
        "movie_df = spark.read.load(f'abfss://{storage_account}.dfs.core.windows.net/movielens/movies.csv'\n",
        ", format='csv'\n",
        "## If header exists uncomment line below\n",
        ", header=True\n",
        ")"
      ],
      "outputs": [
        {
          "output_type": "display_data",
          "data": {
            "application/vnd.livy.statement-meta+json": {
              "spark_pool": "adfcookbookv2",
              "session_id": "5",
              "statement_id": 9,
              "state": "finished",
              "livy_statement_state": "available",
              "queued_time": "2023-05-15T17:48:23.8877165Z",
              "session_start_time": null,
              "execution_start_time": "2023-05-15T17:48:27.1044234Z",
              "execution_finish_time": "2023-05-15T17:48:28.2811336Z",
              "spark_jobs": null,
              "parent_msg_id": "bf0cd735-4994-49e6-a35d-8a4cc24c7a3a"
            },
            "text/plain": "StatementMeta(adfcookbookv2, 5, 9, Finished, Available)"
          },
          "metadata": {}
        }
      ],
      "execution_count": 9,
      "metadata": {
        "jupyter": {
          "source_hidden": false,
          "outputs_hidden": false
        },
        "nteract": {
          "transient": {
            "deleting": false
          }
        },
        "microsoft": {},
        "collapsed": false
      }
    },
    {
      "cell_type": "markdown",
      "source": [
        "Joining movies and aggregated ratings"
      ],
      "metadata": {
        "nteract": {
          "transient": {
            "deleting": false
          }
        }
      }
    },
    {
      "cell_type": "code",
      "source": [
        "output_df = movie_df.join(agg_df, 'movieid', 'inner')"
      ],
      "outputs": [
        {
          "output_type": "display_data",
          "data": {
            "application/vnd.livy.statement-meta+json": {
              "spark_pool": "adfcookbookv2",
              "session_id": "5",
              "statement_id": 10,
              "state": "finished",
              "livy_statement_state": "available",
              "queued_time": "2023-05-15T17:48:23.9675784Z",
              "session_start_time": null,
              "execution_start_time": "2023-05-15T17:48:28.4628538Z",
              "execution_finish_time": "2023-05-15T17:48:28.6184553Z",
              "spark_jobs": null,
              "parent_msg_id": "a464bd12-4c8c-4849-b8be-e92f07fc1032"
            },
            "text/plain": "StatementMeta(adfcookbookv2, 5, 10, Finished, Available)"
          },
          "metadata": {}
        }
      ],
      "execution_count": 10,
      "metadata": {
        "jupyter": {
          "source_hidden": false,
          "outputs_hidden": false
        },
        "nteract": {
          "transient": {
            "deleting": false
          }
        },
        "collapsed": false
      }
    },
    {
      "cell_type": "markdown",
      "source": [
        "Writing the output to curated and enriched folders"
      ],
      "metadata": {
        "nteract": {
          "transient": {
            "deleting": false
          }
        }
      }
    },
    {
      "cell_type": "code",
      "source": [
        "ratings_df.write.mode(\"overwrite\").parquet(f'abfss://{storage_account}.dfs.core.windows.net/curated/rating/')\n",
        "output_df.write.mode(\"overwrite\").parquet(f'abfss://{storage_account}.dfs.core.windows.net/enriched/movies_rating/')"
      ],
      "outputs": [
        {
          "output_type": "display_data",
          "data": {
            "application/vnd.livy.statement-meta+json": {
              "spark_pool": "adfcookbookv2",
              "session_id": "5",
              "statement_id": 12,
              "state": "finished",
              "livy_statement_state": "available",
              "queued_time": "2023-05-15T17:52:08.7286378Z",
              "session_start_time": null,
              "execution_start_time": "2023-05-15T17:52:08.9278389Z",
              "execution_finish_time": "2023-05-15T17:52:21.6602807Z",
              "spark_jobs": null,
              "parent_msg_id": "d50ce962-525a-4f48-bfd5-76012363cd87"
            },
            "text/plain": "StatementMeta(adfcookbookv2, 5, 12, Finished, Available)"
          },
          "metadata": {}
        }
      ],
      "execution_count": 12,
      "metadata": {
        "jupyter": {
          "source_hidden": false,
          "outputs_hidden": false
        },
        "nteract": {
          "transient": {
            "deleting": false
          }
        }
      }
    }
  ],
  "metadata": {
    "kernelspec": {
      "name": "synapse_pyspark",
      "language": "Python",
      "display_name": "Synapse PySpark"
    },
    "language_info": {
      "name": "python"
    },
    "kernel_info": {
      "name": "synapse_pyspark"
    },
    "description": null,
    "save_output": true,
    "synapse_widget": {
      "version": "0.1",
      "state": {}
    }
  },
  "nbformat": 4,
  "nbformat_minor": 2
}